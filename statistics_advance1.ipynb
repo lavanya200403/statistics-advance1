{
  "nbformat": 4,
  "nbformat_minor": 0,
  "metadata": {
    "colab": {
      "provenance": []
    },
    "kernelspec": {
      "name": "python3",
      "display_name": "Python 3"
    },
    "language_info": {
      "name": "python"
    }
  },
  "cells": [
    {
      "cell_type": "markdown",
      "source": [
        "#**THEORY ANSWERS**"
      ],
      "metadata": {
        "id": "P0-ltcH_SS1J"
      }
    },
    {
      "cell_type": "markdown",
      "source": [
        "#1. What is a random variable in probability theory?\n",
        "\n",
        "    ->A random variable in probability theory is any value or observation can be obtain randomly in an experiment.\n",
        "#2. What are the types of random variables?\n",
        "\n",
        "    ->Their are two types of random variable.\n",
        "    ->discrete\n",
        "    ->continous\n",
        "#3. What is the difference between discrete and continuous distributions?\n",
        "\n",
        "  **DISCRETE DISTRIBUTION**\n",
        "\n",
        "                           In discrete distribution a random variable is obtain.Its probability is called probability of mass function.\n",
        "\n",
        "\n",
        "   **CONTINOUS DISTRIBUTION**\n",
        "\n",
        "                           In countinous distribution a random continous variables are obtain.Its probability is called probability of density function.\n",
        "\n",
        "                           \n",
        "\n",
        "\n",
        "#4. What are probability distribution functions (PDF)?\n",
        "\n",
        "    ->probability distribution functions (PDF) are functions which describe the probability of variables at different values.\n",
        "#5. How do cumulative distribution functions (CDF) differ from probability distribution functions (PDF)?\n",
        "\n",
        "    ->In cummulative distribution function (CDF) is summation of all possible probability upto a given point.\n",
        "\n",
        "    On the other hand\n",
        "\n",
        "    ->probability distribution functions (PDF) are functions which describe the probability of variables at different values.\n",
        "#6. What is a discrete uniform distribution?\n",
        "\n",
        "    ->discrete uniform distribution is a probability distribution in which the probability of outcomes are equally likely.\n",
        "#7. What are the key properties of a Bernoulli distribution?\n",
        "\n",
        "    ->Their ate only two possibble outcomes.\n",
        "    ->It is discrete probability distribution of random variables.\n",
        "    ->example head,tail\n",
        "#8. What is the binomial distribution, and how is it used in probability?\n",
        "\n",
        "    ->binomial distribution is a discrete distribution in which two possible outcomes are their with n number of bernoulli distribution.\n",
        "\n",
        "    ->it is used to find probability\n",
        "#9. What is the Poisson distribution and where is it applied?\n",
        "\n",
        "    ->poisson distribution is a descrete distribution in which the probability is determined of a interval of time.\n",
        "\n",
        "    ->it s applied when we need to find probability with average outcomes of interval if time period.\n",
        "#10. What is a continuous uniform distribution?\n",
        "\n",
        "    ->It is a uniform distribution in which the values are coninous with a equally likely probability.\n",
        "#11. What are the characteristics of a normal distribution?\n",
        "\n",
        "    ->It is mostly used distribution function.\n",
        "    ->It is belled shaped in graph.\n",
        "    ->It is symmetric with no skewness.\n",
        "#12. What is the standard normal distribution, and why is it important?\n",
        "\n",
        "    ->It is a special case of normal distribution in which mean is zero and standard daviation is 1.\n",
        "\n",
        "    ->It is important for faster computation.\n",
        "#13. What is the Central Limit Theorem (CLT), and why is it critical in statistics?\n",
        "\n",
        "    ->sampling mean of a population will be approximately to normal distribution.\n",
        "#14. How does the Central Limit Theorem relate to the normal distribution?\n",
        "\n",
        "    ->sampling mean of a population will be approximately to normal distribution.\n",
        "#15. What is the application of Z statistics in hypothesis testing?\n",
        "\n",
        "    ->To determine if there's a significant difference between a sample's mean and a population's mean, or between the means of two independent samples\n",
        "#16. How do you calculate a Z-score, and what does it represent\n",
        "\n",
        "    ->Subtract the mean from data points and divide the result with standard deviation.\n",
        "#17. What are point estimates and interval estimates in statistics\n",
        "\n",
        "    ->they are two ways to estimate population parameter sample data.\n",
        "#18. What is the significance of confidence intervals in statistical analysis\n",
        "\n",
        "    ->they provide values of an unknown population parameter based on sample data.\n",
        "#19. What is the relationship between a Z-score and a confidence interval\n",
        "\n",
        "    ->the z-score corresponds to a chosen confidence level and helps determine the margin of error used in the confidence interval calculation.\n",
        "#20. How are Z-scores used to compare different distributions?\n",
        "\n",
        "    ->by using both virtual or statistical distribution.\n",
        "#21. What are the assumptions for applying the Central Limit Theorem?\n",
        "\n",
        "    ->independence of sampling\n",
        "    ->random sampling\n",
        "#22. What is the concept of expected value in a probability distribution?\n",
        "\n",
        "    ->expected value is average value of observations in long run.\n",
        "#23. How does a probability distribution relate to the expected outcome of a random variable.\n",
        "\n",
        "    ->probability distribution describes the likelihood of all possible outcomes of a random variable"
      ],
      "metadata": {
        "id": "HDA5u3bsSS4j"
      }
    },
    {
      "cell_type": "markdown",
      "source": [
        "#**PRACTICAL ANSWERS**"
      ],
      "metadata": {
        "id": "TZgHY0YUVzXT"
      }
    },
    {
      "cell_type": "markdown",
      "source": [
        "#1. Write a Python program to generate a random variable and display its value\n"
      ],
      "metadata": {
        "id": "0OmuofkbV520"
      }
    },
    {
      "cell_type": "code",
      "source": [
        "import numpy as np\n",
        "np.random.randint(1,5,8)"
      ],
      "metadata": {
        "colab": {
          "base_uri": "https://localhost:8080/"
        },
        "id": "ozjXQ9tEC8By",
        "outputId": "cde0e2fa-7e4e-4e2d-bc1a-326699c3b05c"
      },
      "execution_count": null,
      "outputs": [
        {
          "output_type": "execute_result",
          "data": {
            "text/plain": [
              "array([2, 4, 2, 2, 2, 1, 2, 2])"
            ]
          },
          "metadata": {},
          "execution_count": 4
        }
      ]
    },
    {
      "cell_type": "markdown",
      "source": [
        "#2. Generate a discrete uniform distribution using Python and plot the probability mass function (PMF)"
      ],
      "metadata": {
        "id": "MWXFmmlj6cH_"
      }
    },
    {
      "cell_type": "code",
      "source": [
        "import numpy as np\n",
        "import matplotlib.pyplot as plt\n",
        "from scipy.stats import randint\n",
        "low_bound = 1\n",
        "high_bound = 7\n",
        "discrete_uniform_dist = randint(low=low_bound, high=high_bound)\n",
        "outcomes = np.arange(low_bound, high_bound)\n",
        "probabilities = discrete_uniform_dist.pmf(outcomes)\n",
        "plt.stem(outcomes, probabilities)\n"
      ],
      "metadata": {
        "colab": {
          "base_uri": "https://localhost:8080/",
          "height": 452
        },
        "id": "0cHbUzVE6eLz",
        "outputId": "603f5d42-2b00-41ac-c21c-9711428b4fea"
      },
      "execution_count": 3,
      "outputs": [
        {
          "output_type": "execute_result",
          "data": {
            "text/plain": [
              "<StemContainer object of 3 artists>"
            ]
          },
          "metadata": {},
          "execution_count": 3
        },
        {
          "output_type": "display_data",
          "data": {
            "text/plain": [
              "<Figure size 640x480 with 1 Axes>"
            ],
            "image/png": "[encoded data removed]"
          },
          "metadata": {}
        }
      ]
    },
    {
      "cell_type": "markdown",
      "source": [
        "#3. Write a Python function to calculate the probability distribution function (PDF) of a Bernoulli distribution"
      ],
      "metadata": {
        "id": "XiplBllNFL1I"
      }
    },
    {
      "cell_type": "code",
      "source": [
        "def bernouli(x ,p):\n",
        "  if x==1:\n",
        "    return p\n",
        "  elif x==0:\n",
        "    return 1-p\n"
      ],
      "metadata": {
        "id": "7WA5YVDGC8EZ"
      },
      "execution_count": null,
      "outputs": []
    },
    {
      "cell_type": "code",
      "source": [
        "bernouli(0,.4)"
      ],
      "metadata": {
        "colab": {
          "base_uri": "https://localhost:8080/"
        },
        "id": "To8F3C7mC8HT",
        "outputId": "e751d700-dd95-4cb2-aaf0-88f2e2e9f7de"
      },
      "execution_count": null,
      "outputs": [
        {
          "output_type": "execute_result",
          "data": {
            "text/plain": [
              "0.6"
            ]
          },
          "metadata": {},
          "execution_count": 7
        }
      ]
    },
    {
      "cell_type": "markdown",
      "source": [
        "#4. Write a Python script to simulate a binomial distribution with n=10 and p=0.5, then plot its histogram\n"
      ],
      "metadata": {
        "id": "vbtybVC3RPMk"
      }
    },
    {
      "cell_type": "code",
      "source": [
        "import matplotlib.pyplot as plt\n",
        "n = 10\n",
        "p = 0.5\n",
        "size = 10000\n",
        "data = np.random.binomial(n,p,size)\n",
        "plt.hist(data,color=\"green\")"
      ],
      "metadata": {
        "id": "RtmZdX-kC8J_",
        "colab": {
          "base_uri": "https://localhost:8080/",
          "height": 499
        },
        "outputId": "25211044-6dd2-42ab-9c83-d33d6aee520c"
      },
      "execution_count": null,
      "outputs": [
        {
          "output_type": "execute_result",
          "data": {
            "text/plain": [
              "(array([   9.,  116.,  453., 1147., 1970., 2538., 2022., 1206.,  424.,\n",
              "         115.]),\n",
              " array([ 0.,  1.,  2.,  3.,  4.,  5.,  6.,  7.,  8.,  9., 10.]),\n",
              " <BarContainer object of 10 artists>)"
            ]
          },
          "metadata": {},
          "execution_count": 15
        },
        {
          "output_type": "display_data",
          "data": {
            "text/plain": [
              "<Figure size 640x480 with 1 Axes>"
            ],
            "image/png": "[encoded data removed]"
          },
          "metadata": {}
        }
      ]
    },
    {
      "cell_type": "markdown",
      "source": [
        "#5. Create a Poisson distribution and visualize it using Python"
      ],
      "metadata": {
        "id": "fcMsseAuS68I"
      }
    },
    {
      "cell_type": "code",
      "source": [
        "from scipy.stats import poisson\n",
        "lamdaa = 4\n",
        "sample = 10\n",
        "poi = np.random.poisson(lamdaa,sample)"
      ],
      "metadata": {
        "id": "TPXMIOsbC8Mt"
      },
      "execution_count": null,
      "outputs": []
    },
    {
      "cell_type": "code",
      "source": [
        "plt.hist(poi,color=\"purple\")\n",
        "plt.xlabel('number of events (k)')\n",
        "plt.ylabel('probability')\n",
        "plt.show"
      ],
      "metadata": {
        "id": "7NPAieJjC8Pb",
        "colab": {
          "base_uri": "https://localhost:8080/",
          "height": 618
        },
        "outputId": "08a3eeff-1941-49c2-84f7-4f3a137249d2"
      },
      "execution_count": null,
      "outputs": [
        {
          "output_type": "execute_result",
          "data": {
            "text/plain": [
              "<function matplotlib.pyplot.show(close=None, block=None)>"
            ],
            "text/html": [
              "<div style=\"max-width:800px; border: 1px solid var(--colab-border-color);\"><style>\n",
              "      pre.function-repr-contents {\n",
              "        overflow-x: auto;\n",
              "        padding: 8px 12px;\n",
              "        max-height: 500px;\n",
              "      }\n",
              "\n",
              "      pre.function-repr-contents.function-repr-contents-collapsed {\n",
              "        cursor: pointer;\n",
              "        max-height: 100px;\n",
              "      }\n",
              "    </style>\n",
              "    <pre style=\"white-space: initial; background:\n",
              "         var(--colab-secondary-surface-color); padding: 8px 12px;\n",
              "         border-bottom: 1px solid var(--colab-border-color);\"><b>matplotlib.pyplot.show</b><br/>def show(*args, **kwargs) -&gt; None</pre><pre class=\"function-repr-contents function-repr-contents-collapsed\" style=\"\"><a class=\"filepath\" style=\"display:none\" href=\"#\">/usr/local/lib/python3.11/dist-packages/matplotlib/pyplot.py</a>Display all open figures.\n",
              "\n",
              "Parameters\n",
              "----------\n",
              "block : bool, optional\n",
              "    Whether to wait for all figures to be closed before returning.\n",
              "\n",
              "    If `True` block and run the GUI main loop until all figure windows\n",
              "    are closed.\n",
              "\n",
              "    If `False` ensure that all figure windows are displayed and return\n",
              "    immediately.  In this case, you are responsible for ensuring\n",
              "    that the event loop is running to have responsive figures.\n",
              "\n",
              "    Defaults to True in non-interactive mode and to False in interactive\n",
              "    mode (see `.pyplot.isinteractive`).\n",
              "\n",
              "See Also\n",
              "--------\n",
              "ion : Enable interactive mode, which shows / updates the figure after\n",
              "      every plotting command, so that calling ``show()`` is not necessary.\n",
              "ioff : Disable interactive mode.\n",
              "savefig : Save the figure to an image file instead of showing it on screen.\n",
              "\n",
              "Notes\n",
              "-----\n",
              "**Saving figures to file and showing a window at the same time**\n",
              "\n",
              "If you want an image file as well as a user interface window, use\n",
              "`.pyplot.savefig` before `.pyplot.show`. At the end of (a blocking)\n",
              "``show()`` the figure is closed and thus unregistered from pyplot. Calling\n",
              "`.pyplot.savefig` afterwards would save a new and thus empty figure. This\n",
              "limitation of command order does not apply if the show is non-blocking or\n",
              "if you keep a reference to the figure and use `.Figure.savefig`.\n",
              "\n",
              "**Auto-show in jupyter notebooks**\n",
              "\n",
              "The jupyter backends (activated via ``%matplotlib inline``,\n",
              "``%matplotlib notebook``, or ``%matplotlib widget``), call ``show()`` at\n",
              "the end of every cell by default. Thus, you usually don&#x27;t have to call it\n",
              "explicitly there.</pre>\n",
              "      <script>\n",
              "      if (google.colab.kernel.accessAllowed && google.colab.files && google.colab.files.view) {\n",
              "        for (const element of document.querySelectorAll('.filepath')) {\n",
              "          element.style.display = 'block'\n",
              "          element.onclick = (event) => {\n",
              "            event.preventDefault();\n",
              "            event.stopPropagation();\n",
              "            google.colab.files.view(element.textContent, 569);\n",
              "          };\n",
              "        }\n",
              "      }\n",
              "      for (const element of document.querySelectorAll('.function-repr-contents')) {\n",
              "        element.onclick = (event) => {\n",
              "          event.preventDefault();\n",
              "          event.stopPropagation();\n",
              "          element.classList.toggle('function-repr-contents-collapsed');\n",
              "        };\n",
              "      }\n",
              "      </script>\n",
              "      </div>"
            ]
          },
          "metadata": {},
          "execution_count": 14
        },
        {
          "output_type": "display_data",
          "data": {
            "text/plain": [
              "<Figure size 640x480 with 1 Axes>"
            ],
            "image/png": "[encoded data removed]"
          },
          "metadata": {}
        }
      ]
    },
    {
      "cell_type": "markdown",
      "source": [
        "#6.  Write a Python program to calculate and plot the cumulative distribution function (CDF) of a discrete uniform distribution"
      ],
      "metadata": {
        "id": "6XH3ltSj8U0J"
      }
    },
    {
      "cell_type": "code",
      "source": [
        "import numpy as np\n",
        "import matplotlib.pyplot as plt\n",
        "from scipy.stats import randint\n",
        "\n",
        "def plot_discrete_uniform_cdf(low, high):\n",
        "    if low >= high:\n",
        "        raise ValueError(\"The 'low' parameter must be less than the 'high' parameter.\")\n",
        "    x = np.arange(low, high)\n",
        "    cdf_values = randint.cdf(x, low, high + 1)\n",
        "    plt.step(x, cdf_values, linestyle='-', marker='o', color='skyblue')"
      ],
      "metadata": {
        "id": "OM2E8k7U8Xv8"
      },
      "execution_count": 4,
      "outputs": []
    },
    {
      "cell_type": "code",
      "source": [
        "plot_discrete_uniform_cdf(2,10)"
      ],
      "metadata": {
        "colab": {
          "base_uri": "https://localhost:8080/",
          "height": 430
        },
        "id": "NeJAEr1c8zF0",
        "outputId": "d4ba4f16-7309-4de1-d2b8-824831de554e"
      },
      "execution_count": 5,
      "outputs": [
        {
          "output_type": "display_data",
          "data": {
            "text/plain": [
              "<Figure size 640x480 with 1 Axes>"
            ],
            "image/png": "[encoded data removed]"
          },
          "metadata": {}
        }
      ]
    },
    {
      "cell_type": "markdown",
      "source": [
        "#17.Generate random variables and calculate their corresponding probabilities using the binomial distribution"
      ],
      "metadata": {
        "id": "NbSI69RbYU-M"
      }
    },
    {
      "cell_type": "code",
      "source": [
        "data"
      ],
      "metadata": {
        "id": "kuoVd4kgC8Rt",
        "colab": {
          "base_uri": "https://localhost:8080/"
        },
        "outputId": "e974d9b6-47d0-4df9-8f41-c1e2ceb75b92"
      },
      "execution_count": null,
      "outputs": [
        {
          "output_type": "execute_result",
          "data": {
            "text/plain": [
              "array([7, 6, 6, ..., 5, 7, 5])"
            ]
          },
          "metadata": {},
          "execution_count": 16
        }
      ]
    },
    {
      "cell_type": "code",
      "source": [
        "plt.hist(data,color=\"pink\")"
      ],
      "metadata": {
        "id": "FnfxvaR3C8T1",
        "colab": {
          "base_uri": "https://localhost:8080/",
          "height": 499
        },
        "outputId": "95627a1a-f647-49c3-a6a5-cde0d00ff48c"
      },
      "execution_count": null,
      "outputs": [
        {
          "output_type": "execute_result",
          "data": {
            "text/plain": [
              "(array([   9.,  116.,  453., 1147., 1970., 2538., 2022., 1206.,  424.,\n",
              "         115.]),\n",
              " array([ 0.,  1.,  2.,  3.,  4.,  5.,  6.,  7.,  8.,  9., 10.]),\n",
              " <BarContainer object of 10 artists>)"
            ]
          },
          "metadata": {},
          "execution_count": 17
        },
        {
          "output_type": "display_data",
          "data": {
            "text/plain": [
              "<Figure size 640x480 with 1 Axes>"
            ],
            "image/png": "[encoded data removed]"
          },
          "metadata": {}
        }
      ]
    },
    {
      "cell_type": "markdown",
      "source": [
        "#25. Write a Python program to compare the standard deviations of two datasets and visualize the difference"
      ],
      "metadata": {
        "id": "LM-cjuxFZipC"
      }
    },
    {
      "cell_type": "code",
      "source": [
        "data1 = [2,5,1,8,3,8,5,1,6,9]\n",
        "data2 = [8,4,2]\n",
        "\n",
        "std1 = np.std(data1)\n",
        "std2 = np.std(data2)\n",
        "std_compare = [std1,std2]\n",
        "plt.hist(std_compare)"
      ],
      "metadata": {
        "id": "LVFCKdT1C8W8",
        "colab": {
          "base_uri": "https://localhost:8080/",
          "height": 517
        },
        "outputId": "339766c8-d016-406d-dffd-2daeac795a6f"
      },
      "execution_count": null,
      "outputs": [
        {
          "output_type": "execute_result",
          "data": {
            "text/plain": [
              "(array([1., 0., 0., 0., 0., 0., 0., 0., 0., 1.]),\n",
              " array([2.49443826, 2.52712915, 2.55982005, 2.59251094, 2.62520183,\n",
              "        2.65789273, 2.69058362, 2.72327451, 2.75596541, 2.7886563 ,\n",
              "        2.8213472 ]),\n",
              " <BarContainer object of 10 artists>)"
            ]
          },
          "metadata": {},
          "execution_count": 31
        },
        {
          "output_type": "display_data",
          "data": {
            "text/plain": [
              "<Figure size 640x480 with 1 Axes>"
            ],
            "image/png": "[encoded data removed]"
          },
          "metadata": {}
        }
      ]
    },
    {
      "cell_type": "markdown",
      "source": [
        "#23. Use Python to calculate and interpret the cumulative distribution function (CDF) of a Poisson distribution"
      ],
      "metadata": {
        "id": "hPII8eN6c32t"
      }
    },
    {
      "cell_type": "code",
      "source": [
        "lamdaa = 9\n",
        "x = np.arange(0,20)\n",
        "cdf = poisson.cdf(x,lamdaa)\n",
        "plt.step(x,cdf,color=\"g\")"
      ],
      "metadata": {
        "colab": {
          "base_uri": "https://localhost:8080/",
          "height": 447
        },
        "id": "MOsRZhbhc5oN",
        "outputId": "12b91662-d452-4b88-cbcf-b12b1bacbe64"
      },
      "execution_count": null,
      "outputs": [
        {
          "output_type": "execute_result",
          "data": {
            "text/plain": [
              "[<matplotlib.lines.Line2D at 0x783881f82c50>]"
            ]
          },
          "metadata": {},
          "execution_count": 34
        },
        {
          "output_type": "display_data",
          "data": {
            "text/plain": [
              "<Figure size 640x480 with 1 Axes>"
            ],
            "image/png": "[encoded data removed]"
          },
          "metadata": {}
        }
      ]
    },
    {
      "cell_type": "markdown",
      "source": [
        "#8. Simulate data from a normal distribution and plot its histogram"
      ],
      "metadata": {
        "id": "UYPXx0SodgCm"
      }
    },
    {
      "cell_type": "code",
      "source": [
        "import numpy as np\n",
        "import matplotlib.pyplot as plt"
      ],
      "metadata": {
        "id": "3G03f5ulc56C"
      },
      "execution_count": null,
      "outputs": []
    },
    {
      "cell_type": "code",
      "source": [
        "normal1 = np.random.normal(0,1,100)"
      ],
      "metadata": {
        "id": "KDAUR-65c590"
      },
      "execution_count": null,
      "outputs": []
    },
    {
      "cell_type": "code",
      "source": [
        "plt.hist(normal1 ,color='pink')"
      ],
      "metadata": {
        "id": "l9KSCd-1c6BB",
        "colab": {
          "base_uri": "https://localhost:8080/",
          "height": 517
        },
        "outputId": "74f5d79b-f38a-4ee0-d91f-6d6047960411"
      },
      "execution_count": null,
      "outputs": [
        {
          "output_type": "execute_result",
          "data": {
            "text/plain": [
              "(array([ 2.,  3.,  6., 11., 17., 23., 17.,  8.,  8.,  5.]),\n",
              " array([-2.17337495, -1.76191436, -1.35045376, -0.93899317, -0.52753258,\n",
              "        -0.11607198,  0.29538861,  0.7068492 ,  1.11830979,  1.52977039,\n",
              "         1.94123098]),\n",
              " <BarContainer object of 10 artists>)"
            ]
          },
          "metadata": {},
          "execution_count": 27
        },
        {
          "output_type": "display_data",
          "data": {
            "text/plain": [
              "<Figure size 640x480 with 1 Axes>"
            ],
            "image/png": "[encoded data removed]"
          },
          "metadata": {}
        }
      ]
    },
    {
      "cell_type": "markdown",
      "source": [
        "#21. Generate data from a normal distribution, then calculate and interpret the confidence interval for its mean?"
      ],
      "metadata": {
        "id": "fO9yYng7iyxK"
      }
    },
    {
      "cell_type": "code",
      "source": [
        "b = np.random.normal(5,10,100)"
      ],
      "metadata": {
        "id": "tOGh5X_4i4Jt"
      },
      "execution_count": null,
      "outputs": []
    },
    {
      "cell_type": "code",
      "source": [
        "b"
      ],
      "metadata": {
        "colab": {
          "base_uri": "https://localhost:8080/"
        },
        "id": "gRzAYweOjgJK",
        "outputId": "ed3fd065-5fd2-4854-e11a-3f6f6bfe29a2"
      },
      "execution_count": null,
      "outputs": [
        {
          "output_type": "execute_result",
          "data": {
            "text/plain": [
              "array([ 17.81167733,   6.37408786,  21.75185451, -15.81072598,\n",
              "         4.9254503 ,  13.59566073,   7.58280962,   8.30757708,\n",
              "        22.97212733,   2.73894779,   1.54245883,  25.31175346,\n",
              "        13.42421716,  15.65049446,  13.52478567,  13.1379654 ,\n",
              "         3.43341877,   9.15868853,  20.03042037,  -7.534161  ,\n",
              "         7.63982873,  17.36106394,  -6.04607891,  19.85417702,\n",
              "        12.29261965,   1.64489528,  -5.8376139 ,   3.55533912,\n",
              "        12.48029057,  -3.25061805,  -4.10079125,  -3.41073057,\n",
              "         7.13668648,  -8.34388792,  25.32183547,  15.9859482 ,\n",
              "        18.28997471,   5.95623812,   0.91238393,  -3.8580372 ,\n",
              "         8.22197237,  -3.01229789,   6.62208756,   0.87951799,\n",
              "         5.59047643,  -4.99794448,  10.61740271,  12.18243826,\n",
              "        12.94729272,   7.56606169,   6.43991538,   5.24581318,\n",
              "         4.73713501, -15.50647669,   5.50385866,  16.3919486 ,\n",
              "         9.14863006, -15.62579121,  22.12899836,  -2.98494958,\n",
              "        -1.63142349, -10.90620475,  21.26845812,  39.91652246,\n",
              "         8.33586604,  -8.4971626 ,  11.80614795,   8.11488171,\n",
              "         5.58561255,   1.27186677,  12.53699948,  12.80182214,\n",
              "         5.73515142,   1.70334222,  10.27557894, -13.02242922,\n",
              "        -6.44246892,   2.70296938,   6.00700229,   7.50227909,\n",
              "        24.07318753,  12.88443611,   2.53258605,  22.83777623,\n",
              "        -4.38895506,  13.76615283,  -9.18046617,  14.53402845,\n",
              "         1.22547653,  -6.80081483,   8.48687232,  -6.86389743,\n",
              "        -4.61702735,  -1.88124318,   2.27278112,   2.50265818,\n",
              "         0.3464639 ,  -0.34151762,   4.41145755,   8.99980719])"
            ]
          },
          "metadata": {},
          "execution_count": 30
        }
      ]
    },
    {
      "cell_type": "code",
      "source": [
        "b.mean()"
      ],
      "metadata": {
        "colab": {
          "base_uri": "https://localhost:8080/"
        },
        "id": "2e2Ze_kSi4bz",
        "outputId": "a76cca7f-ce0b-48c3-e21f-4d4be638b4fe"
      },
      "execution_count": null,
      "outputs": [
        {
          "output_type": "execute_result",
          "data": {
            "text/plain": [
              "np.float64(6.034736946687713)"
            ]
          },
          "metadata": {},
          "execution_count": 29
        }
      ]
    },
    {
      "cell_type": "markdown",
      "source": [
        "#16.Write a Python function to calculate and plot the standard normal distribution (mean = 0, std = 1)?"
      ],
      "metadata": {
        "id": "vyCqY0a3gbMC"
      }
    },
    {
      "cell_type": "code",
      "source": [
        "import math\n",
        "\n",
        "def standard(x):\n",
        "    coefficient = 1 / math.sqrt(2 * math.pi)\n",
        "    exponent = -0.5 * (x**2)\n",
        "    pdf_value = coefficient * math.exp(exponent)\n",
        "    return pdf_value\n"
      ],
      "metadata": {
        "id": "bCZrioRKc6EV"
      },
      "execution_count": null,
      "outputs": []
    },
    {
      "cell_type": "code",
      "source": [
        "f = np.random.standard_normal(100)"
      ],
      "metadata": {
        "id": "4qcK3DqVc6Lg"
      },
      "execution_count": null,
      "outputs": []
    },
    {
      "cell_type": "code",
      "source": [
        "plt.hist(f)"
      ],
      "metadata": {
        "id": "pIuNVaGEc6Sf",
        "colab": {
          "base_uri": "https://localhost:8080/",
          "height": 519
        },
        "outputId": "adaadc73-7127-40df-c5e9-d79d3610e878"
      },
      "execution_count": null,
      "outputs": [
        {
          "output_type": "execute_result",
          "data": {
            "text/plain": [
              "(array([ 1.,  5., 10., 20., 24., 18., 12.,  6.,  2.,  2.]),\n",
              " array([-2.7833366 , -2.18816765, -1.59299869, -0.99782974, -0.40266079,\n",
              "         0.19250817,  0.78767712,  1.38284607,  1.97801502,  2.57318398,\n",
              "         3.16835293]),\n",
              " <BarContainer object of 10 artists>)"
            ]
          },
          "metadata": {},
          "execution_count": 25
        },
        {
          "output_type": "display_data",
          "data": {
            "text/plain": [
              "<Figure size 640x480 with 1 Axes>"
            ],
            "image/png": "[encoded data removed]"
          },
          "metadata": {}
        }
      ]
    },
    {
      "cell_type": "markdown",
      "source": [
        "#22. Write a Python script to calculate and visualize the probability density function (PDF) of a normal distribution"
      ],
      "metadata": {
        "id": "RnrnLKG4jteB"
      }
    },
    {
      "cell_type": "code",
      "source": [
        "import numpy as np\n",
        "import matplotlib.pyplot as plt\n",
        "from scipy.stats import norm\n",
        "\n",
        "def visualize(mean, std_dev):\n",
        "    x = np.linspace(mean - 4 * std_dev, mean + 4 * std_dev, 1000)\n",
        "    pdf_values = norm.pdf(x, loc=mean, scale=std_dev)\n",
        "    plt.figure(figsize=(8, 6))\n",
        "    plt.plot(x, pdf_values, color='blue', label=f'Normal Distribution (μ={mean}, σ={std_dev})')\n",
        "    plt.axvline(mean)"
      ],
      "metadata": {
        "id": "EyVkzAKUjyr1"
      },
      "execution_count": null,
      "outputs": []
    },
    {
      "cell_type": "code",
      "source": [
        "visualize(80,5)"
      ],
      "metadata": {
        "colab": {
          "base_uri": "https://localhost:8080/",
          "height": 522
        },
        "id": "yH0Sz4XCjyu6",
        "outputId": "52edec77-1caf-4a10-8697-07a7829d8d95"
      },
      "execution_count": null,
      "outputs": [
        {
          "output_type": "display_data",
          "data": {
            "text/plain": [
              "<Figure size 800x600 with 1 Axes>"
            ],
            "image/png": "[encoded data removed]"
          },
          "metadata": {}
        }
      ]
    },
    {
      "cell_type": "markdown",
      "source": [
        "#28. Write a Python function to calculate the skewness and kurtosis of a dataset generated from a normal distribution."
      ],
      "metadata": {
        "id": "1q1c6syvlxPb"
      }
    },
    {
      "cell_type": "code",
      "source": [
        "#normal distribution\n",
        "import pandas as pd\n",
        "b = pd.DataFrame(b)"
      ],
      "metadata": {
        "id": "JoiWd5J-jyxt"
      },
      "execution_count": null,
      "outputs": []
    },
    {
      "cell_type": "code",
      "source": [
        "b"
      ],
      "metadata": {
        "colab": {
          "base_uri": "https://localhost:8080/",
          "height": 423
        },
        "id": "CtGoE2bYnSUB",
        "outputId": "29b92b3a-5e39-4581-ad66-a90bc3fee5da"
      },
      "execution_count": null,
      "outputs": [
        {
          "output_type": "execute_result",
          "data": {
            "text/plain": [
              "            0\n",
              "0   17.811677\n",
              "1    6.374088\n",
              "2   21.751855\n",
              "3  -15.810726\n",
              "4    4.925450\n",
              "..        ...\n",
              "95   2.502658\n",
              "96   0.346464\n",
              "97  -0.341518\n",
              "98   4.411458\n",
              "99   8.999807\n",
              "\n",
              "[100 rows x 1 columns]"
            ],
            "text/html": [
              "\n",
              "  <div id=\"df-000dfc3c-5c40-4d66-9321-da736487ff39\" class=\"colab-df-container\">\n",
              "    <div>\n",
              "<style scoped>\n",
              "    .dataframe tbody tr th:only-of-type {\n",
              "        vertical-align: middle;\n",
              "    }\n",
              "\n",
              "    .dataframe tbody tr th {\n",
              "        vertical-align: top;\n",
              "    }\n",
              "\n",
              "    .dataframe thead th {\n",
              "        text-align: right;\n",
              "    }\n",
              "</style>\n",
              "<table border=\"1\" class=\"dataframe\">\n",
              "  <thead>\n",
              "    <tr style=\"text-align: right;\">\n",
              "      <th></th>\n",
              "      <th>0</th>\n",
              "    </tr>\n",
              "  </thead>\n",
              "  <tbody>\n",
              "    <tr>\n",
              "      <th>0</th>\n",
              "      <td>17.811677</td>\n",
              "    </tr>\n",
              "    <tr>\n",
              "      <th>1</th>\n",
              "      <td>6.374088</td>\n",
              "    </tr>\n",
              "    <tr>\n",
              "      <th>2</th>\n",
              "      <td>21.751855</td>\n",
              "    </tr>\n",
              "    <tr>\n",
              "      <th>3</th>\n",
              "      <td>-15.810726</td>\n",
              "    </tr>\n",
              "    <tr>\n",
              "      <th>4</th>\n",
              "      <td>4.925450</td>\n",
              "    </tr>\n",
              "    <tr>\n",
              "      <th>...</th>\n",
              "      <td>...</td>\n",
              "    </tr>\n",
              "    <tr>\n",
              "      <th>95</th>\n",
              "      <td>2.502658</td>\n",
              "    </tr>\n",
              "    <tr>\n",
              "      <th>96</th>\n",
              "      <td>0.346464</td>\n",
              "    </tr>\n",
              "    <tr>\n",
              "      <th>97</th>\n",
              "      <td>-0.341518</td>\n",
              "    </tr>\n",
              "    <tr>\n",
              "      <th>98</th>\n",
              "      <td>4.411458</td>\n",
              "    </tr>\n",
              "    <tr>\n",
              "      <th>99</th>\n",
              "      <td>8.999807</td>\n",
              "    </tr>\n",
              "  </tbody>\n",
              "</table>\n",
              "<p>100 rows × 1 columns</p>\n",
              "</div>\n",
              "    <div class=\"colab-df-buttons\">\n",
              "\n",
              "  <div class=\"colab-df-container\">\n",
              "    <button class=\"colab-df-convert\" onclick=\"convertToInteractive('df-000dfc3c-5c40-4d66-9321-da736487ff39')\"\n",
              "            title=\"Convert this dataframe to an interactive table.\"\n",
              "            style=\"display:none;\">\n",
              "\n",
              "  <svg xmlns=\"http://www.w3.org/2000/svg\" height=\"24px\" viewBox=\"0 -960 960 960\">\n",
              "    <path d=\"M120-120v-720h720v720H120Zm60-500h600v-160H180v160Zm220 220h160v-160H400v160Zm0 220h160v-160H400v160ZM180-400h160v-160H180v160Zm440 0h160v-160H620v160ZM180-180h160v-160H180v160Zm440 0h160v-160H620v160Z\"/>\n",
              "  </svg>\n",
              "    </button>\n",
              "\n",
              "  <style>\n",
              "    .colab-df-container {\n",
              "      display:flex;\n",
              "      gap: 12px;\n",
              "    }\n",
              "\n",
              "    .colab-df-convert {\n",
              "      background-color: #E8F0FE;\n",
              "      border: none;\n",
              "      border-radius: 50%;\n",
              "      cursor: pointer;\n",
              "      display: none;\n",
              "      fill: #1967D2;\n",
              "      height: 32px;\n",
              "      padding: 0 0 0 0;\n",
              "      width: 32px;\n",
              "    }\n",
              "\n",
              "    .colab-df-convert:hover {\n",
              "      background-color: #E2EBFA;\n",
              "      box-shadow: 0px 1px 2px rgba(60, 64, 67, 0.3), 0px 1px 3px 1px rgba(60, 64, 67, 0.15);\n",
              "      fill: #174EA6;\n",
              "    }\n",
              "\n",
              "    .colab-df-buttons div {\n",
              "      margin-bottom: 4px;\n",
              "    }\n",
              "\n",
              "    [theme=dark] .colab-df-convert {\n",
              "      background-color: #3B4455;\n",
              "      fill: #D2E3FC;\n",
              "    }\n",
              "\n",
              "    [theme=dark] .colab-df-convert:hover {\n",
              "      background-color: #434B5C;\n",
              "      box-shadow: 0px 1px 3px 1px rgba(0, 0, 0, 0.15);\n",
              "      filter: drop-shadow(0px 1px 2px rgba(0, 0, 0, 0.3));\n",
              "      fill: #FFFFFF;\n",
              "    }\n",
              "  </style>\n",
              "\n",
              "    <script>\n",
              "      const buttonEl =\n",
              "        document.querySelector('#df-000dfc3c-5c40-4d66-9321-da736487ff39 button.colab-df-convert');\n",
              "      buttonEl.style.display =\n",
              "        google.colab.kernel.accessAllowed ? 'block' : 'none';\n",
              "\n",
              "      async function convertToInteractive(key) {\n",
              "        const element = document.querySelector('#df-000dfc3c-5c40-4d66-9321-da736487ff39');\n",
              "        const dataTable =\n",
              "          await google.colab.kernel.invokeFunction('convertToInteractive',\n",
              "                                                    [key], {});\n",
              "        if (!dataTable) return;\n",
              "\n",
              "        const docLinkHtml = 'Like what you see? Visit the ' +\n",
              "          '<a target=\"_blank\" href=https://colab.research.google.com/notebooks/data_table.ipynb>data table notebook</a>'\n",
              "          + ' to learn more about interactive tables.';\n",
              "        element.innerHTML = '';\n",
              "        dataTable['output_type'] = 'display_data';\n",
              "        await google.colab.output.renderOutput(dataTable, element);\n",
              "        const docLink = document.createElement('div');\n",
              "        docLink.innerHTML = docLinkHtml;\n",
              "        element.appendChild(docLink);\n",
              "      }\n",
              "    </script>\n",
              "  </div>\n",
              "\n",
              "\n",
              "    <div id=\"df-60525330-dc2b-4140-a05c-4d9ba68e1238\">\n",
              "      <button class=\"colab-df-quickchart\" onclick=\"quickchart('df-60525330-dc2b-4140-a05c-4d9ba68e1238')\"\n",
              "                title=\"Suggest charts\"\n",
              "                style=\"display:none;\">\n",
              "\n",
              "<svg xmlns=\"http://www.w3.org/2000/svg\" height=\"24px\"viewBox=\"0 0 24 24\"\n",
              "     width=\"24px\">\n",
              "    <g>\n",
              "        <path d=\"M19 3H5c-1.1 0-2 .9-2 2v14c0 1.1.9 2 2 2h14c1.1 0 2-.9 2-2V5c0-1.1-.9-2-2-2zM9 17H7v-7h2v7zm4 0h-2V7h2v10zm4 0h-2v-4h2v4z\"/>\n",
              "    </g>\n",
              "</svg>\n",
              "      </button>\n",
              "\n",
              "<style>\n",
              "  .colab-df-quickchart {\n",
              "      --bg-color: #E8F0FE;\n",
              "      --fill-color: #1967D2;\n",
              "      --hover-bg-color: #E2EBFA;\n",
              "      --hover-fill-color: #174EA6;\n",
              "      --disabled-fill-color: #AAA;\n",
              "      --disabled-bg-color: #DDD;\n",
              "  }\n",
              "\n",
              "  [theme=dark] .colab-df-quickchart {\n",
              "      --bg-color: #3B4455;\n",
              "      --fill-color: #D2E3FC;\n",
              "      --hover-bg-color: #434B5C;\n",
              "      --hover-fill-color: #FFFFFF;\n",
              "      --disabled-bg-color: #3B4455;\n",
              "      --disabled-fill-color: #666;\n",
              "  }\n",
              "\n",
              "  .colab-df-quickchart {\n",
              "    background-color: var(--bg-color);\n",
              "    border: none;\n",
              "    border-radius: 50%;\n",
              "    cursor: pointer;\n",
              "    display: none;\n",
              "    fill: var(--fill-color);\n",
              "    height: 32px;\n",
              "    padding: 0;\n",
              "    width: 32px;\n",
              "  }\n",
              "\n",
              "  .colab-df-quickchart:hover {\n",
              "    background-color: var(--hover-bg-color);\n",
              "    box-shadow: 0 1px 2px rgba(60, 64, 67, 0.3), 0 1px 3px 1px rgba(60, 64, 67, 0.15);\n",
              "    fill: var(--button-hover-fill-color);\n",
              "  }\n",
              "\n",
              "  .colab-df-quickchart-complete:disabled,\n",
              "  .colab-df-quickchart-complete:disabled:hover {\n",
              "    background-color: var(--disabled-bg-color);\n",
              "    fill: var(--disabled-fill-color);\n",
              "    box-shadow: none;\n",
              "  }\n",
              "\n",
              "  .colab-df-spinner {\n",
              "    border: 2px solid var(--fill-color);\n",
              "    border-color: transparent;\n",
              "    border-bottom-color: var(--fill-color);\n",
              "    animation:\n",
              "      spin 1s steps(1) infinite;\n",
              "  }\n",
              "\n",
              "  @keyframes spin {\n",
              "    0% {\n",
              "      border-color: transparent;\n",
              "      border-bottom-color: var(--fill-color);\n",
              "      border-left-color: var(--fill-color);\n",
              "    }\n",
              "    20% {\n",
              "      border-color: transparent;\n",
              "      border-left-color: var(--fill-color);\n",
              "      border-top-color: var(--fill-color);\n",
              "    }\n",
              "    30% {\n",
              "      border-color: transparent;\n",
              "      border-left-color: var(--fill-color);\n",
              "      border-top-color: var(--fill-color);\n",
              "      border-right-color: var(--fill-color);\n",
              "    }\n",
              "    40% {\n",
              "      border-color: transparent;\n",
              "      border-right-color: var(--fill-color);\n",
              "      border-top-color: var(--fill-color);\n",
              "    }\n",
              "    60% {\n",
              "      border-color: transparent;\n",
              "      border-right-color: var(--fill-color);\n",
              "    }\n",
              "    80% {\n",
              "      border-color: transparent;\n",
              "      border-right-color: var(--fill-color);\n",
              "      border-bottom-color: var(--fill-color);\n",
              "    }\n",
              "    90% {\n",
              "      border-color: transparent;\n",
              "      border-bottom-color: var(--fill-color);\n",
              "    }\n",
              "  }\n",
              "</style>\n",
              "\n",
              "      <script>\n",
              "        async function quickchart(key) {\n",
              "          const quickchartButtonEl =\n",
              "            document.querySelector('#' + key + ' button');\n",
              "          quickchartButtonEl.disabled = true;  // To prevent multiple clicks.\n",
              "          quickchartButtonEl.classList.add('colab-df-spinner');\n",
              "          try {\n",
              "            const charts = await google.colab.kernel.invokeFunction(\n",
              "                'suggestCharts', [key], {});\n",
              "          } catch (error) {\n",
              "            console.error('Error during call to suggestCharts:', error);\n",
              "          }\n",
              "          quickchartButtonEl.classList.remove('colab-df-spinner');\n",
              "          quickchartButtonEl.classList.add('colab-df-quickchart-complete');\n",
              "        }\n",
              "        (() => {\n",
              "          let quickchartButtonEl =\n",
              "            document.querySelector('#df-60525330-dc2b-4140-a05c-4d9ba68e1238 button');\n",
              "          quickchartButtonEl.style.display =\n",
              "            google.colab.kernel.accessAllowed ? 'block' : 'none';\n",
              "        })();\n",
              "      </script>\n",
              "    </div>\n",
              "\n",
              "  <div id=\"id_d355d8aa-5627-43a1-a1e6-f18c4d988e97\">\n",
              "    <style>\n",
              "      .colab-df-generate {\n",
              "        background-color: #E8F0FE;\n",
              "        border: none;\n",
              "        border-radius: 50%;\n",
              "        cursor: pointer;\n",
              "        display: none;\n",
              "        fill: #1967D2;\n",
              "        height: 32px;\n",
              "        padding: 0 0 0 0;\n",
              "        width: 32px;\n",
              "      }\n",
              "\n",
              "      .colab-df-generate:hover {\n",
              "        background-color: #E2EBFA;\n",
              "        box-shadow: 0px 1px 2px rgba(60, 64, 67, 0.3), 0px 1px 3px 1px rgba(60, 64, 67, 0.15);\n",
              "        fill: #174EA6;\n",
              "      }\n",
              "\n",
              "      [theme=dark] .colab-df-generate {\n",
              "        background-color: #3B4455;\n",
              "        fill: #D2E3FC;\n",
              "      }\n",
              "\n",
              "      [theme=dark] .colab-df-generate:hover {\n",
              "        background-color: #434B5C;\n",
              "        box-shadow: 0px 1px 3px 1px rgba(0, 0, 0, 0.15);\n",
              "        filter: drop-shadow(0px 1px 2px rgba(0, 0, 0, 0.3));\n",
              "        fill: #FFFFFF;\n",
              "      }\n",
              "    </style>\n",
              "    <button class=\"colab-df-generate\" onclick=\"generateWithVariable('b')\"\n",
              "            title=\"Generate code using this dataframe.\"\n",
              "            style=\"display:none;\">\n",
              "\n",
              "  <svg xmlns=\"http://www.w3.org/2000/svg\" height=\"24px\"viewBox=\"0 0 24 24\"\n",
              "       width=\"24px\">\n",
              "    <path d=\"M7,19H8.4L18.45,9,17,7.55,7,17.6ZM5,21V16.75L18.45,3.32a2,2,0,0,1,2.83,0l1.4,1.43a1.91,1.91,0,0,1,.58,1.4,1.91,1.91,0,0,1-.58,1.4L9.25,21ZM18.45,9,17,7.55Zm-12,3A5.31,5.31,0,0,0,4.9,8.1,5.31,5.31,0,0,0,1,6.5,5.31,5.31,0,0,0,4.9,4.9,5.31,5.31,0,0,0,6.5,1,5.31,5.31,0,0,0,8.1,4.9,5.31,5.31,0,0,0,12,6.5,5.46,5.46,0,0,0,6.5,12Z\"/>\n",
              "  </svg>\n",
              "    </button>\n",
              "    <script>\n",
              "      (() => {\n",
              "      const buttonEl =\n",
              "        document.querySelector('#id_d355d8aa-5627-43a1-a1e6-f18c4d988e97 button.colab-df-generate');\n",
              "      buttonEl.style.display =\n",
              "        google.colab.kernel.accessAllowed ? 'block' : 'none';\n",
              "\n",
              "      buttonEl.onclick = () => {\n",
              "        google.colab.notebook.generateWithVariable('b');\n",
              "      }\n",
              "      })();\n",
              "    </script>\n",
              "  </div>\n",
              "\n",
              "    </div>\n",
              "  </div>\n"
            ],
            "application/vnd.google.colaboratory.intrinsic+json": {
              "type": "dataframe",
              "variable_name": "b",
              "summary": "{\n  \"name\": \"b\",\n  \"rows\": 100,\n  \"fields\": [\n    {\n      \"column\": 0,\n      \"properties\": {\n        \"dtype\": \"number\",\n        \"std\": 10.2489479320982,\n        \"min\": -15.810725982227517,\n        \"max\": 39.91652245934364,\n        \"num_unique_values\": 100,\n        \"samples\": [\n          22.837776229935145,\n          -15.506476688051901,\n          12.536999480622008\n        ],\n        \"semantic_type\": \"\",\n        \"description\": \"\"\n      }\n    }\n  ]\n}"
            }
          },
          "metadata": {},
          "execution_count": 38
        }
      ]
    },
    {
      "cell_type": "code",
      "source": [
        "b.skew()"
      ],
      "metadata": {
        "colab": {
          "base_uri": "https://localhost:8080/",
          "height": 115
        },
        "id": "5VeU01B6jy3M",
        "outputId": "d752795c-5d76-4e79-b1d8-18bee091cef6"
      },
      "execution_count": null,
      "outputs": [
        {
          "output_type": "execute_result",
          "data": {
            "text/plain": [
              "0    0.225118\n",
              "dtype: float64"
            ],
            "text/html": [
              "<div>\n",
              "<style scoped>\n",
              "    .dataframe tbody tr th:only-of-type {\n",
              "        vertical-align: middle;\n",
              "    }\n",
              "\n",
              "    .dataframe tbody tr th {\n",
              "        vertical-align: top;\n",
              "    }\n",
              "\n",
              "    .dataframe thead th {\n",
              "        text-align: right;\n",
              "    }\n",
              "</style>\n",
              "<table border=\"1\" class=\"dataframe\">\n",
              "  <thead>\n",
              "    <tr style=\"text-align: right;\">\n",
              "      <th></th>\n",
              "      <th>0</th>\n",
              "    </tr>\n",
              "  </thead>\n",
              "  <tbody>\n",
              "    <tr>\n",
              "      <th>0</th>\n",
              "      <td>0.225118</td>\n",
              "    </tr>\n",
              "  </tbody>\n",
              "</table>\n",
              "</div><br><label><b>dtype:</b> float64</label>"
            ]
          },
          "metadata": {},
          "execution_count": 37
        }
      ]
    },
    {
      "cell_type": "markdown",
      "source": [
        "#26. Calculate the range and interquartile range (IQR) of a dataset generated from a normal distribution"
      ],
      "metadata": {
        "id": "stDdA2WAo1jK"
      }
    },
    {
      "cell_type": "code",
      "source": [
        "b.max() - b.min() #range"
      ],
      "metadata": {
        "colab": {
          "base_uri": "https://localhost:8080/",
          "height": 115
        },
        "id": "rdNTJZYOjy5-",
        "outputId": "3c17f8b8-f555-4dfe-d7db-d260ba1ee5b9"
      },
      "execution_count": null,
      "outputs": [
        {
          "output_type": "execute_result",
          "data": {
            "text/plain": [
              "0    55.727248\n",
              "dtype: float64"
            ],
            "text/html": [
              "<div>\n",
              "<style scoped>\n",
              "    .dataframe tbody tr th:only-of-type {\n",
              "        vertical-align: middle;\n",
              "    }\n",
              "\n",
              "    .dataframe tbody tr th {\n",
              "        vertical-align: top;\n",
              "    }\n",
              "\n",
              "    .dataframe thead th {\n",
              "        text-align: right;\n",
              "    }\n",
              "</style>\n",
              "<table border=\"1\" class=\"dataframe\">\n",
              "  <thead>\n",
              "    <tr style=\"text-align: right;\">\n",
              "      <th></th>\n",
              "      <th>0</th>\n",
              "    </tr>\n",
              "  </thead>\n",
              "  <tbody>\n",
              "    <tr>\n",
              "      <th>0</th>\n",
              "      <td>55.727248</td>\n",
              "    </tr>\n",
              "  </tbody>\n",
              "</table>\n",
              "</div><br><label><b>dtype:</b> float64</label>"
            ]
          },
          "metadata": {},
          "execution_count": 40
        }
      ]
    },
    {
      "cell_type": "code",
      "source": [
        "np.percentile(b,25)"
      ],
      "metadata": {
        "colab": {
          "base_uri": "https://localhost:8080/"
        },
        "id": "Lw4qBcOZjy8Y",
        "outputId": "7387cc1d-991d-476f-cbb1-fbfdcdfda0db"
      },
      "execution_count": null,
      "outputs": [
        {
          "output_type": "execute_result",
          "data": {
            "text/plain": [
              "np.float64(-0.6639940884636284)"
            ]
          },
          "metadata": {},
          "execution_count": 45
        }
      ]
    },
    {
      "cell_type": "code",
      "source": [
        "np.percentile(b,75)"
      ],
      "metadata": {
        "colab": {
          "base_uri": "https://localhost:8080/"
        },
        "id": "CdLGYQ-wjy_G",
        "outputId": "1210df97-3f18-4aeb-959a-72fc6e3103ff"
      },
      "execution_count": null,
      "outputs": [
        {
          "output_type": "execute_result",
          "data": {
            "text/plain": [
              "np.float64(12.822475635717671)"
            ]
          },
          "metadata": {},
          "execution_count": 46
        }
      ]
    },
    {
      "cell_type": "code",
      "source": [
        "np.percentile(b,50)"
      ],
      "metadata": {
        "colab": {
          "base_uri": "https://localhost:8080/"
        },
        "id": "rnjBRq-kjzCf",
        "outputId": "60341aeb-c465-464b-ed18-21bb690fb140"
      },
      "execution_count": null,
      "outputs": [
        {
          "output_type": "execute_result",
          "data": {
            "text/plain": [
              "np.float64(5.981620201818453)"
            ]
          },
          "metadata": {},
          "execution_count": 47
        }
      ]
    },
    {
      "cell_type": "markdown",
      "source": [
        "#15.Simulate multiple samples from a normal distribution and verify the Central Limit Theorem"
      ],
      "metadata": {
        "id": "zTDzKLMrp72Y"
      }
    },
    {
      "cell_type": "code",
      "source": [
        "import numpy as np\n",
        "import matplotlib.pyplot as plt\n",
        "sample_size = 30\n",
        "num_samples = 45\n",
        "sample_means = []\n",
        "for _ in range(num_samples):\n",
        "    sample = np.random.choice(b, sample_size)\n",
        "    sample_means.append(np.mean(sample))\n",
        "plt.hist(sample_means)\n",
        "plt.xlabel(\"Sample Means\")\n",
        "plt.ylabel(\"Frequency\")\n"
      ],
      "metadata": {
        "colab": {
          "base_uri": "https://localhost:8080/",
          "height": 466
        },
        "id": "jzB6wMSTo92T",
        "outputId": "bed5e05d-c05e-463e-8eca-bdcdf7e2a63f"
      },
      "execution_count": null,
      "outputs": [
        {
          "output_type": "execute_result",
          "data": {
            "text/plain": [
              "Text(0, 0.5, 'Frequency')"
            ]
          },
          "metadata": {},
          "execution_count": 77
        },
        {
          "output_type": "display_data",
          "data": {
            "text/plain": [
              "<Figure size 640x480 with 1 Axes>"
            ],
            "image/png": "[encoded data removed]"
          },
          "metadata": {}
        }
      ]
    },
    {
      "cell_type": "markdown",
      "source": [
        "#7.  Generate a continuous uniform distribution using NumPy and visualize it"
      ],
      "metadata": {
        "id": "hvJ1guSi9Ptf"
      }
    },
    {
      "cell_type": "code",
      "source": [
        "sam = np.random.uniform(0,20,200)"
      ],
      "metadata": {
        "id": "ACa9VVJBo95b"
      },
      "execution_count": 17,
      "outputs": []
    },
    {
      "cell_type": "code",
      "source": [
        "plt.hist(sam)"
      ],
      "metadata": {
        "id": "zXWN2tv7o987",
        "colab": {
          "base_uri": "https://localhost:8080/",
          "height": 517
        },
        "outputId": "0dc354ba-83e2-4875-ae48-0f90194e00e5"
      },
      "execution_count": 18,
      "outputs": [
        {
          "output_type": "execute_result",
          "data": {
            "text/plain": [
              "(array([22., 16., 18., 19., 28., 16., 21., 22., 20., 18.]),\n",
              " array([ 0.03481946,  2.01311676,  3.99141407,  5.96971137,  7.94800867,\n",
              "         9.92630598, 11.90460328, 13.88290059, 15.86119789, 17.83949519,\n",
              "        19.8177925 ]),\n",
              " <BarContainer object of 10 artists>)"
            ]
          },
          "metadata": {},
          "execution_count": 18
        },
        {
          "output_type": "display_data",
          "data": {
            "text/plain": [
              "<Figure size 640x480 with 1 Axes>"
            ],
            "image/png": "[encoded data removed]"
          },
          "metadata": {}
        }
      ]
    },
    {
      "cell_type": "markdown",
      "source": [
        "#9. Write a Python function to calculate Z-scores from a dataset and plot them"
      ],
      "metadata": {
        "id": "3PNFZYIc-ECx"
      }
    },
    {
      "cell_type": "code",
      "source": [
        "import numpy as np\n",
        "import pandas as pd\n",
        "from scipy.stats import zscore\n",
        "\n",
        "def calculate_z_scores(data):\n",
        "  if isinstance(data, list):\n",
        "        data = np.array(data)\n",
        "  return zscore(data)\n",
        "data = [10, 12, 13, 15, 16, 18, 20, 22, 25, 27]\n"
      ],
      "metadata": {
        "id": "FTvvCZjzo-AI"
      },
      "execution_count": 20,
      "outputs": []
    },
    {
      "cell_type": "code",
      "source": [
        "calculate_z_scores(data)"
      ],
      "metadata": {
        "id": "rydftboOo-DN",
        "colab": {
          "base_uri": "https://localhost:8080/"
        },
        "outputId": "f400d3ce-f403-4b6f-a881-866202251ef5"
      },
      "execution_count": 21,
      "outputs": [
        {
          "output_type": "execute_result",
          "data": {
            "text/plain": [
              "array([-1.45445457, -1.0815175 , -0.89504897, -0.5221119 , -0.33564336,\n",
              "        0.03729371,  0.41023078,  0.78316785,  1.34257345,  1.71551052])"
            ]
          },
          "metadata": {},
          "execution_count": 21
        }
      ]
    },
    {
      "cell_type": "markdown",
      "source": [
        "#18. Write a Python program to calculate the Z-score for a given data point and compare it to a standard normal distribution"
      ],
      "metadata": {
        "id": "0SXzZQIn-8KN"
      }
    },
    {
      "cell_type": "code",
      "source": [
        "o = calculate_z_scores(data)"
      ],
      "metadata": {
        "id": "LjuWx0VCo-GZ"
      },
      "execution_count": 24,
      "outputs": []
    },
    {
      "cell_type": "code",
      "source": [
        "def compare_std(z_score):\n",
        "  if z_score > 0:\n",
        "    return \"std is above mean\"\n",
        "  elif z_score< 0:\n",
        "    return \"std is below mean\"\n"
      ],
      "metadata": {
        "id": "WxZQMRZuo-KD"
      },
      "execution_count": 23,
      "outputs": []
    },
    {
      "cell_type": "markdown",
      "source": [
        "#27.Implement Z-score normalization on a dataset and visualize its transformation"
      ],
      "metadata": {
        "id": "ss3bexYx_6TL"
      }
    },
    {
      "cell_type": "code",
      "source": [
        "\n",
        "from sklearn.preprocessing import StandardScaler\n",
        "np.random.seed(42)\n",
        "original_data = np.random.normal(loc=50, scale=15, size=100).reshape(-1, 1)\n",
        "scaler = StandardScaler()\n",
        "normalized_data = scaler.fit_transform(original_data)"
      ],
      "metadata": {
        "id": "s15ljggRAzSb"
      },
      "execution_count": 29,
      "outputs": []
    },
    {
      "cell_type": "code",
      "source": [
        "# Create subplots for visualization\n",
        "fig, axes = plt.subplots(1, 2, figsize=(12, 5))\n",
        "axes[0].hist(original_data, bins=15, color='skyblue', edgecolor='black')\n",
        "axes[1].hist(normalized_data, bins=15, color='lightcoral', edgecolor='black')\n",
        "plt.show()"
      ],
      "metadata": {
        "colab": {
          "base_uri": "https://localhost:8080/",
          "height": 445
        },
        "id": "EVsGbkKnBJ5q",
        "outputId": "6fba842d-5874-4472-d25d-5e02294880fb"
      },
      "execution_count": 30,
      "outputs": [
        {
          "output_type": "display_data",
          "data": {
            "text/plain": [
              "<Figure size 1200x500 with 2 Axes>"
            ],
            "image/png": "[encoded data removed]"
          },
          "metadata": {}
        }
      ]
    },
    {
      "cell_type": "code",
      "source": [],
      "metadata": {
        "id": "e3Aq9LShBJ8i"
      },
      "execution_count": null,
      "outputs": []
    },
    {
      "cell_type": "code",
      "source": [],
      "metadata": {
        "id": "byW_KllzBJ_m"
      },
      "execution_count": null,
      "outputs": []
    },
    {
      "cell_type": "code",
      "source": [],
      "metadata": {
        "id": "vdb-GtmcBKCx"
      },
      "execution_count": null,
      "outputs": []
    }
  ]
}